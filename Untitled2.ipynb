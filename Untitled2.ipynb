{
 "cells": [
  {
   "cell_type": "code",
   "execution_count": 102,
   "id": "0b5d2f10-d153-4c78-bf93-0c170ebb381c",
   "metadata": {},
   "outputs": [],
   "source": [
    "import pandas as pd\n",
    "import numpy as np\n"
   ]
  },
  {
   "cell_type": "code",
   "execution_count": 103,
   "id": "a1559dc3-5e46-4fc1-a7d2-a20ea794ba45",
   "metadata": {},
   "outputs": [],
   "source": [
    "from sklearn.model_selection import train_test_split\n",
    "from sklearn.preprocessing import StandardScaler\n",
    "from sklearn.tree import DecisionTreeClassifier\n",
    "from sklearn.decomposition import PCA\n",
    "from sklearn.metrics import (\n",
    "    accuracy_score, precision_score, recall_score, f1_score, confusion_matrix\n",
    ")\n"
   ]
  },
  {
   "cell_type": "code",
   "execution_count": 104,
   "id": "2cde951a-6450-46ae-bffc-d10e2eb73177",
   "metadata": {},
   "outputs": [],
   "source": [
    "data_source = \"https://archive.ics.uci.edu/ml/machine-learning-databases/breast-cancer-wisconsin/wdbc.data\""
   ]
  },
  {
   "cell_type": "code",
   "execution_count": 105,
   "id": "d94aec27-c1bc-4a27-ac93-8640d8da9257",
   "metadata": {},
   "outputs": [],
   "source": [
    "feature_columns = [\n",
    "    'case_id', 'diagnosis', \n",
    "    'mean_radius', 'mean_texture', 'mean_perimeter', 'mean_area', 'mean_smoothness',\n",
    "    'mean_compactness', 'mean_concavity', 'mean_concave_points', 'mean_symmetry', \n",
    "    'mean_fractal',\n",
    "    'se_radius', 'se_texture', 'se_perimeter', 'se_area', 'se_smoothness',\n",
    "    'se_compactness', 'se_concavity', 'se_concave_points', 'se_symmetry', \n",
    "    'se_fractal',\n",
    "    'max_radius', 'max_texture', 'max_perimeter', 'max_area',\n",
    "    'max_smoothness', 'max_compactness', 'max_concavity',\n",
    "    'max_concave_points', 'max_symmetry', 'max_fractal'\n",
    "]"
   ]
  },
  {
   "cell_type": "code",
   "execution_count": 106,
   "id": "0af7b01d-6613-4d9c-b0df-606ff3964064",
   "metadata": {},
   "outputs": [],
   "source": [
    "cancer_data = pd.read_csv(data_source, header=None, names=feature_columns)\n",
    "cancer_data['target'] = cancer_data['diagnosis'].map({'M': 1, 'B': 0})  "
   ]
  },
  {
   "cell_type": "code",
   "execution_count": 107,
   "id": "e78f7a7a-2a87-4e8a-9b58-08edad979c0b",
   "metadata": {},
   "outputs": [],
   "source": [
    "features = cancer_data.drop(['case_id', 'diagnosis', 'target'], axis=1)\n",
    "target = cancer_data['target']"
   ]
  },
  {
   "cell_type": "code",
   "execution_count": 108,
   "id": "e6df20f3-e1fd-4306-ba7d-ec32c5c3ac4b",
   "metadata": {},
   "outputs": [],
   "source": [
    "train_features, test_features, train_target, test_target = train_test_split(\n",
    "    features, target, test_size=0.3, random_state=42\n",
    ")"
   ]
  },
  {
   "cell_type": "code",
   "execution_count": 109,
   "id": "aae0f12d-ce80-4c7b-83ca-937f8255c395",
   "metadata": {},
   "outputs": [],
   "source": [
    "normalizer = StandardScaler()\n",
    "normalized_train = normalizer.fit_transform(train_features)\n",
    "normalized_test = normalizer.transform(test_features)"
   ]
  },
  {
   "cell_type": "code",
   "execution_count": 110,
   "id": "49530d13-a61f-44bf-b46e-d648b5c90a20",
   "metadata": {},
   "outputs": [],
   "source": [
    "base_model = DecisionTreeClassifier(random_state=42)\n",
    "base_model.fit(normalized_train, train_target)\n",
    "base_pred = base_model.predict(normalized_test)"
   ]
  },
  {
   "cell_type": "code",
   "execution_count": 111,
   "id": "7e87e691-57c2-4509-9cf0-3b61c3d932ea",
   "metadata": {},
   "outputs": [
    {
     "name": "stdout",
     "output_type": "stream",
     "text": [
      "Original features model metrics:\n",
      "F1: 0.92\n",
      "Precision: 0.90\n",
      "Sensitivity: 0.95\n",
      "\n"
     ]
    }
   ],
   "source": [
    "print(\"Original features model metrics:\")\n",
    "print(f\"F1: {f1_score(test_target, base_pred):.2f}\")\n",
    "print(f\"Precision: {precision_score(test_target, base_pred):.2f}\")\n",
    "print(f\"Sensitivity: {recall_score(test_target, base_pred):.2f}\\n\")"
   ]
  },
  {
   "cell_type": "code",
   "execution_count": 115,
   "id": "1d8b8135-6130-4651-a7de-f7257ad485b0",
   "metadata": {},
   "outputs": [
    {
     "name": "stdout",
     "output_type": "stream",
     "text": [
      "Single component model metrics:\n",
      "F1: 0.78\n",
      "Precision: 0.76\n",
      "Recall: 0.79\n",
      "\n"
     ]
    }
   ],
   "source": [
    "for dim in [1, 2]:\n",
    "    reducer = PCA(n_components=dim)\n",
    "    reduced_train = reducer.fit_transform(normalized_train)\n",
    "    reduced_test = reducer.transform(normalized_test)\n",
    "    \n",
    "    pca_model = DecisionTreeClassifier(random_state=42)\n",
    "    pca_model.fit(reduced_train, train_target)\n",
    "    pca_pred = pca_model.predict(reduced_test)\n",
    "    if dim == 1:\n",
    "        print(f\"Single component model metrics:\")\n",
    "        print(f\"F1: {f1_score(test_target, pca_pred):.2f}\")\n",
    "        print(f\"Precision: {precision_score(test_target, pca_pred):.2f}\")\n",
    "        print(f\"Recall: {recall_score(test_target, pca_pred):.2f}\\n\")\n",
    "    else:\n",
    "        tn, fp, fn, tp = confusion_matrix(test_target, pca_pred).ravel()\n",
    "        false_positive_rate = fp / (fp + tn)\n",
    "        true_positive_rate = tp / (tp + fn)"
   ]
  },
  {
   "cell_type": "code",
   "execution_count": 116,
   "id": "d60e350c-faea-4a2f-be4a-6831e6393b20",
   "metadata": {},
   "outputs": [
    {
     "name": "stdout",
     "output_type": "stream",
     "text": [
      "Dual component         confusion analysis:\n",
      "True Positives = 57, False Alarms = 10\n",
      "True Negatives = 98, Missed Cases = 6\n",
      "False Alarm Rate = 9.26%\n",
      "Detection Rate = 90.48%\n"
     ]
    }
   ],
   "source": [
    "        print(\"Dual component         confusion analysis:\")\n",
    "        print(f\"True Positives = {tp}, False Alarms = {fp}\")\n",
    "        print(f\"True Negatives = {tn}, Missed Cases = {fn}\")\n",
    "        print(f\"False Alarm Rate = {false_positive_rate*100:.2f}%\")\n",
    "        print(f\"Detection Rate = {true_positive_rate*100:.2f}%\")"
   ]
  },
  {
   "cell_type": "code",
   "execution_count": 117,
   "id": "0469548a-4478-445b-ae00-b246db4c899b",
   "metadata": {},
   "outputs": [
    {
     "name": "stdout",
     "output_type": "stream",
     "text": [
      "\n",
      "Key findings:\n",
      "Original feature metrics surpass PCA-reduced models across all evaluation parameters\n",
      "Complete feature set preserves discriminative patterns, enabling superior model performance\n"
     ]
    }
   ],
   "source": [
    "print(\"\\nKey findings:\")\n",
    "print(\"Original feature metrics surpass PCA-reduced models across all evaluation parameters\")\n",
    "print(\"Complete feature set preserves discriminative patterns, enabling superior model performance\")"
   ]
  },
  {
   "cell_type": "code",
   "execution_count": null,
   "id": "13add68c-e8eb-4dd3-ad90-4b93fb6dc8c7",
   "metadata": {},
   "outputs": [],
   "source": []
  },
  {
   "cell_type": "code",
   "execution_count": null,
   "id": "8a58de19-ba80-470b-9d92-d1694e1bd2d1",
   "metadata": {},
   "outputs": [],
   "source": []
  },
  {
   "cell_type": "code",
   "execution_count": null,
   "id": "d27d74ea-65df-469b-a6e8-273a8b71be7b",
   "metadata": {},
   "outputs": [],
   "source": []
  }
 ],
 "metadata": {
  "kernelspec": {
   "display_name": "Python 3 (ipykernel)",
   "language": "python",
   "name": "python3"
  },
  "language_info": {
   "codemirror_mode": {
    "name": "ipython",
    "version": 3
   },
   "file_extension": ".py",
   "mimetype": "text/x-python",
   "name": "python",
   "nbconvert_exporter": "python",
   "pygments_lexer": "ipython3",
   "version": "3.12.0"
  }
 },
 "nbformat": 4,
 "nbformat_minor": 5
}
