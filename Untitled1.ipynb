{
 "cells": [
  {
   "cell_type": "code",
   "execution_count": 4,
   "id": "1ff8db53-59e3-4545-86ab-1f9867edde61",
   "metadata": {},
   "outputs": [],
   "source": [
    "import pandas as pd"
   ]
  },
  {
   "cell_type": "code",
   "execution_count": 5,
   "id": "7b6e0ecb-d31d-4365-b95f-c851af8aa069",
   "metadata": {},
   "outputs": [],
   "source": [
    "from sklearn.datasets import load_iris\n",
    "from sklearn.model_selection import train_test_split\n",
    "from sklearn.tree import DecisionTreeClassifier\n",
    "from sklearn.metrics import precision_recall_fscore_support"
   ]
  },
  {
   "cell_type": "code",
   "execution_count": 6,
   "id": "12acd4d2-9e7b-45e1-8b63-74694093ebc9",
   "metadata": {},
   "outputs": [],
   "source": [
    "iris = load_iris()\n",
    "df = pd.DataFrame(data=iris.data, columns=iris.feature_names)\n",
    "df['target'] = iris.target"
   ]
  },
  {
   "cell_type": "code",
   "execution_count": 7,
   "id": "2adedb51-ba71-41d2-8708-189803fea688",
   "metadata": {},
   "outputs": [],
   "source": [
    "X = df.drop('target', axis=1)\n",
    "y = df['target']\n",
    "X_train, X_test, y_train, y_test = train_test_split(X, y, test_size=0.3, random_state=42)"
   ]
  },
  {
   "cell_type": "code",
   "execution_count": 8,
   "id": "f87d19ae-58a4-477f-82ad-96f4171b5da6",
   "metadata": {},
   "outputs": [],
   "source": [
    "results = []"
   ]
  },
  {
   "cell_type": "code",
   "execution_count": 9,
   "id": "50b6c11b-c057-408c-a769-7cca5e2afec7",
   "metadata": {},
   "outputs": [],
   "source": [
    "for depth in range(1, 6):\n",
    "    clf = DecisionTreeClassifier(\n",
    "        max_depth=depth,\n",
    "        min_samples_leaf=2,\n",
    "        min_samples_split=5,\n",
    "        random_state=42\n",
    "    )\n",
    "    clf.fit(X_train, y_train)\n",
    "    y_pred = clf.predict(X_test)\n",
    "    \n",
    "   \n",
    "    precision_macro, recall_macro, f1_macro, _ = precision_recall_fscore_support(\n",
    "        y_test, y_pred, average='macro', zero_division=0 \n",
    "    )\n",
    "    precision_micro, recall_micro, f1_micro, _ = precision_recall_fscore_support(\n",
    "        y_test, y_pred, average='micro', zero_division=0\n",
    "    )\n",
    "    precision_weighted, recall_weighted, f1_weighted, _ = precision_recall_fscore_support(\n",
    "        y_test, y_pred, average='weighted', zero_division=0\n",
    "    )\n",
    "    \n",
    "    results.append({\n",
    "        'depth': depth,\n",
    "        'recall_macro': recall_macro,\n",
    "        'precision_macro': precision_macro,\n",
    "        'f1_macro': f1_macro,\n",
    "        'recall_micro': recall_micro,\n",
    "        'precision_micro': precision_micro,\n",
    "        'f1_micro': f1_micro,\n",
    "        'recall_weighted': recall_weighted,\n",
    "        'precision_weighted': precision_weighted,\n",
    "        'f1_weighted': f1_weighted\n",
    "    })"
   ]
  },
  {
   "cell_type": "code",
   "execution_count": 10,
   "id": "bd3ed6b9-8a04-4cbf-a3be-c76c9a148a44",
   "metadata": {},
   "outputs": [
    {
     "name": "stdout",
     "output_type": "stream",
     "text": [
      "   depth  recall_macro  precision_macro  f1_macro\n",
      "0      1      0.666667          0.50000  0.555556\n",
      "1      2      0.974359          0.97619  0.974321\n",
      "2      3      1.000000          1.00000  1.000000\n",
      "3      4      1.000000          1.00000  1.000000\n",
      "4      5      1.000000          1.00000  1.000000\n"
     ]
    }
   ],
   "source": [
    "results_df = pd.DataFrame(results)\n",
    "print(results_df[['depth', 'recall_macro', 'precision_macro', 'f1_macro']])"
   ]
  },
  {
   "cell_type": "code",
   "execution_count": null,
   "id": "6eab225e-ca74-4d41-8dfd-11ca7d495538",
   "metadata": {},
   "outputs": [],
   "source": []
  },
  {
   "cell_type": "code",
   "execution_count": null,
   "id": "5c43935d-57a9-43ba-81e9-60c1a7d79bcf",
   "metadata": {},
   "outputs": [],
   "source": []
  },
  {
   "cell_type": "code",
   "execution_count": null,
   "id": "4e815fbc-e08e-4a47-8c1a-0a90240dafa0",
   "metadata": {},
   "outputs": [],
   "source": []
  }
 ],
 "metadata": {
  "kernelspec": {
   "display_name": "Python 3 (ipykernel)",
   "language": "python",
   "name": "python3"
  },
  "language_info": {
   "codemirror_mode": {
    "name": "ipython",
    "version": 3
   },
   "file_extension": ".py",
   "mimetype": "text/x-python",
   "name": "python",
   "nbconvert_exporter": "python",
   "pygments_lexer": "ipython3",
   "version": "3.12.0"
  }
 },
 "nbformat": 4,
 "nbformat_minor": 5
}
